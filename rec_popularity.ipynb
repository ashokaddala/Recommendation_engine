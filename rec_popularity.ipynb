{
 "cells": [
  {
   "cell_type": "code",
   "execution_count": 1,
   "metadata": {},
   "outputs": [],
   "source": [
    "# import important libraries \n",
    "import numpy as np\n",
    "import scipy\n",
    "import pandas as pd\n",
    "import math\n",
    "import random\n",
    "import sklearn\n",
    "import nltk\n",
    "from nltk.corpus import stopwords\n",
    "from sklearn.model_selection import train_test_split\n",
    "from sklearn.feature_extraction.text import TfidfVectorizer\n",
    "from sklearn.metrics.pairwise import cosine_similarity\n",
    "from scipy.sparse.linalg import svds\n",
    "import matplotlib.pyplot as plt"
   ]
  },
  {
   "cell_type": "code",
   "execution_count": 2,
   "metadata": {},
   "outputs": [],
   "source": [
    "articles_df = pd.read_csv('C:\\\\Users\\\\ashok.kumar\\\\Documents\\\\rec systems\\\\shared_articles.csv\\\\shared_articles.csv')"
   ]
  },
  {
   "cell_type": "code",
   "execution_count": 3,
   "metadata": {},
   "outputs": [],
   "source": [
    "articles_df = articles_df[articles_df['eventType'] == 'CONTENT SHARED']"
   ]
  },
  {
   "cell_type": "code",
   "execution_count": 7,
   "metadata": {},
   "outputs": [
    {
     "data": {
      "text/plain": [
       "0"
      ]
     },
     "execution_count": 7,
     "metadata": {},
     "output_type": "execute_result"
    }
   ],
   "source": []
  },
  {
   "cell_type": "code",
   "execution_count": 4,
   "metadata": {},
   "outputs": [],
   "source": [
    "interactions_df = pd.read_csv('C:/Users/ashok.kumar/Documents/rec systems/users_interactions.csv/users_interactions.csv')\n",
    "# interactions_df.head(10)"
   ]
  },
  {
   "cell_type": "code",
   "execution_count": 9,
   "metadata": {},
   "outputs": [
    {
     "data": {
      "text/plain": [
       "timestamp      68772\n",
       "eventType          5\n",
       "contentId       2987\n",
       "personId        1895\n",
       "sessionId      28740\n",
       "userAgent       1090\n",
       "userRegion        71\n",
       "userCountry       23\n",
       "dtype: int64"
      ]
     },
     "execution_count": 9,
     "metadata": {},
     "output_type": "execute_result"
    }
   ],
   "source": [
    "interactions_df.nunique()"
   ]
  },
  {
   "cell_type": "code",
   "execution_count": null,
   "metadata": {},
   "outputs": [],
   "source": []
  },
  {
   "cell_type": "code",
   "execution_count": 5,
   "metadata": {},
   "outputs": [],
   "source": [
    "# print(interactions_df['eventType'].unique())\n",
    "# interactions_df.dtypes\n",
    "# print(interactions_df.isnull().sum())\n",
    "# len(articles_df),len(interactions_df)\n"
   ]
  },
  {
   "cell_type": "markdown",
   "metadata": {},
   "source": [
    "## Data munging\n",
    "As there are different interactions types, we associate them with a weight or strength, assuming that, for example, a comment in an article indicates a higher interest of the user on the item than a like, or than a simple view."
   ]
  },
  {
   "cell_type": "code",
   "execution_count": 6,
   "metadata": {},
   "outputs": [],
   "source": [
    "event_type_strength = {\n",
    "    'VIEW' : 1.0,\n",
    "    'FOLLOW' : 2.0,\n",
    "    'BOOKMARK' : 2.5,\n",
    "    'LIKE' : 3.0,\n",
    "    'COMMENT CREATED' : 4.0,\n",
    "}"
   ]
  },
  {
   "cell_type": "code",
   "execution_count": 7,
   "metadata": {},
   "outputs": [],
   "source": [
    "# event_type_strength.keys(), event_type_strength.values()\n",
    "interactions_df['eventStrength'] = interactions_df['eventType'].apply(lambda x : event_type_strength[x])\n",
    "# interactions_df.head(5)"
   ]
  },
  {
   "cell_type": "code",
   "execution_count": 8,
   "metadata": {},
   "outputs": [],
   "source": [
    "users_interactions_count_df = interactions_df.groupby(['personId', 'contentId']).size().groupby('personId').size()"
   ]
  },
  {
   "cell_type": "code",
   "execution_count": 9,
   "metadata": {},
   "outputs": [],
   "source": [
    "users_interactions_count_df = interactions_df.groupby(['personId', 'contentId']).size().groupby('personId').size()\n",
    "# print('# users: %d' % len(users_interactions_count_df))\n",
    "users_with_enough_interactions_df = users_interactions_count_df[users_interactions_count_df >= 5].reset_index()[['personId']]\n",
    "# print('# users with at least 5 interactions: %d' % len(users_with_enough_interactions_df))"
   ]
  },
  {
   "cell_type": "code",
   "execution_count": 10,
   "metadata": {},
   "outputs": [],
   "source": [
    "# users_with_enough_interactions_df.head(5)"
   ]
  },
  {
   "cell_type": "code",
   "execution_count": 11,
   "metadata": {},
   "outputs": [],
   "source": [
    "# print('#number of interactions: %d' % len(interactions_df))\n",
    "interactions_from_selected_users_df = interactions_df.merge(users_with_enough_interactions_df, \n",
    "               how = 'right',\n",
    "               left_on = 'personId',\n",
    "               right_on = 'personId')\n",
    "# print('# number of interactions from users with at least 5 interactions: %d'\n",
    "#       % len(interactions_from_selected_users_df))"
   ]
  },
  {
   "cell_type": "code",
   "execution_count": 12,
   "metadata": {},
   "outputs": [],
   "source": [
    "def smooth_user_preference(x):\n",
    "    return math.log(1+x, 2)\n",
    "    \n",
    "interactions_full_df = interactions_from_selected_users_df \\\n",
    "                    .groupby(['personId', 'contentId'])['eventStrength'].sum() \\\n",
    "                    .apply(smooth_user_preference).reset_index()\n",
    "# print('#number of unique user/item interactions: %d' % len(interactions_full_df))\n",
    "# interactions_full_df.head(10)"
   ]
  },
  {
   "cell_type": "markdown",
   "metadata": {},
   "source": [
    "### Popularity model\n",
    "A common (and usually hard-to-beat) baseline approach is the Popularity model. This model is not actually personalized - it simply recommends to a user the most popular items that the user has not previously consumed. As the popularity accounts for the \"wisdom of the crowds\", it usually provides good recommendations, generally interesting for most people. Ps. The main objective of a recommender system is to leverage the long-tail items to the users with very specific interests, which goes far beyond this simple technique."
   ]
  },
  {
   "cell_type": "code",
   "execution_count": 13,
   "metadata": {},
   "outputs": [],
   "source": [
    "#computes the most popular items\n",
    "item_popularity_df = interactions_full_df.groupby('contentId')['eventStrength'].sum().sort_values (ascending = False).reset_index()\n",
    "# item_popularity_df.head(10)"
   ]
  },
  {
   "cell_type": "code",
   "execution_count": null,
   "metadata": {},
   "outputs": [],
   "source": [
    "item_popularity_view_df = interactions_full_df."
   ]
  },
  {
   "cell_type": "code",
   "execution_count": 19,
   "metadata": {},
   "outputs": [],
   "source": [
    "class PopularityRecommender:\n",
    "    \n",
    "    MODEL_NAME = 'Popularity'\n",
    "    \n",
    "    def __init__(self, popularity_df, items_df=None):\n",
    "        self.popularity_df = popularity_df\n",
    "        self.items_df = items_df\n",
    "        \n",
    "    def get_model_name(self):\n",
    "        return self.MODEL_NAME\n",
    "        \n",
    "    def recommend_items(self, user_id, items_to_ignore=[], topn=10, verbose=False):\n",
    "        # Recommend the more popular items that the user hasn't seen yet.\n",
    "        recommendations_df = self.popularity_df[~self.popularity_df['contentId'].isin(items_to_ignore)] \\\n",
    "                               .sort_values('eventStrength', ascending = False) \\\n",
    "                               .head(topn)\n",
    "    def recommend_items(self,user_id,items_to_ignore=[],topn=10,verbose=False):\n",
    "        rec_by_view_df = self.popularity_df[~self.popularity_df['contentId'].isin(items_to_ignore)] \\\n",
    "                            .sort_values('eventStrength', ascending = False).head(topn)\n",
    "        if verbose:\n",
    "            if self.items_df is None:\n",
    "                raise Exception('\"items_df\" is required in verbose mode')\n",
    "\n",
    "            recommendations_df = recommendations_df.merge(self.items_df, how = 'left', \n",
    "                                                          left_on = 'contentId', \n",
    "                                                          right_on = 'contentId')[['title','eventStrength']]\n",
    "\n",
    "\n",
    "        return recommendations_df\n",
    "    \n",
    "popularity_model = PopularityRecommender(item_popularity_df, articles_df)"
   ]
  },
  {
   "cell_type": "code",
   "execution_count": null,
   "metadata": {},
   "outputs": [],
   "source": [
    "# def inspect_interactions(person_id, test_set=True):\n",
    "#     if test_set:\n",
    "#         interactions_df = interactions_test_indexed_df\n",
    "#     else:\n",
    "#         interactions_df = interactions_train_indexed_df\n",
    "#     return interactions_df.loc[person_id].merge(articles_df, how = 'left', \n",
    "#                                                       left_on = 'contentId', \n",
    "#                                                       right_on = 'contentId') \\\n",
    "#                           .sort_values('eventStrength', ascending = False)[['eventStrength', \n",
    "#                                                                           'contentId',\n",
    "#                                                                           'title', 'url', 'lang']]"
   ]
  },
  {
   "cell_type": "code",
   "execution_count": 26,
   "metadata": {},
   "outputs": [
    {
     "data": {
      "text/plain": [
       "pandas.core.frame.DataFrame"
      ]
     },
     "execution_count": 26,
     "metadata": {},
     "output_type": "execute_result"
    }
   ],
   "source": [
    "type(popularity_model.recommend_items(96, topn=20, verbose=True))"
   ]
  },
  {
   "cell_type": "code",
   "execution_count": 27,
   "metadata": {},
   "outputs": [],
   "source": [
    "typeof = popularity_model.recommend_items(96, topn=20, verbose=True)"
   ]
  },
  {
   "cell_type": "code",
   "execution_count": 35,
   "metadata": {},
   "outputs": [
    {
     "data": {
      "text/plain": [
       "{'title': {0: 'Former Google career coach shares a visual trick for figuring out what to do with your life',\n",
       "  1: 'Livro: Retrospectivas Divertidas',\n",
       "  2: 'Novo workaholic trabalha, pratica esportes e tem tempo para a família. Conheça',\n",
       "  3: \"Ray Kurzweil: The world isn't getting worse - our information is getting better\",\n",
       "  4: 'Ganhe 6 meses de acesso ao Pluralsight, maior plataforma de treinamento online',\n",
       "  5: 'Psicóloga de Harvard diz que as pessoas julgam você em segundos por esses critérios | Jornal do Empreendedor',\n",
       "  6: 'Custo do Erro - Cinco motivos para investir em automação de testes',\n",
       "  7: '10 Modern Software Over-Engineering Mistakes',\n",
       "  8: 'Um bilhão de arquivos mostram quem vence a disputa tabs vs. espaços entre programadores',\n",
       "  9: \"Don't document your code. Code your documentation.\",\n",
       "  10: 'Seja esperto no trabalho: Melhore a comunicação na empresa com 12 robôs',\n",
       "  11: 'A minha viagem à Maternidade #tetodomundo',\n",
       "  12: 'UX ou UI?',\n",
       "  13: 'Pull request first - Practical Blend',\n",
       "  14: 'Why Programmers Want Private Offices',\n",
       "  15: 'The brilliant mechanics of Pokémon Go',\n",
       "  16: 'The Broken Window Theory',\n",
       "  17: 'Cinco competências comportamentais para você ser um bom líder',\n",
       "  18: 'O chefe é gay. E daí?',\n",
       "  19: 'Aposta na inovação'},\n",
       " 'eventStrength': {0: 319.50848223694624,\n",
       "  1: 239.58741668330083,\n",
       "  2: 234.52182034764928,\n",
       "  3: 202.2594337110641,\n",
       "  4: 198.87882575056267,\n",
       "  5: 197.13642233881038,\n",
       "  6: 187.10775070910458,\n",
       "  7: 184.46451004886626,\n",
       "  8: 180.92228309815795,\n",
       "  9: 174.65931578037743,\n",
       "  10: 168.93843304009104,\n",
       "  11: 164.84632348815148,\n",
       "  12: 163.23282907311173,\n",
       "  13: 159.04626778158897,\n",
       "  14: 151.3296539791877,\n",
       "  15: 149.66594616265914,\n",
       "  16: 149.63502246575655,\n",
       "  17: 144.6180655291049,\n",
       "  18: 131.9494490796892,\n",
       "  19: 130.65199669305787}}"
      ]
     },
     "execution_count": 35,
     "metadata": {},
     "output_type": "execute_result"
    }
   ],
   "source": [
    "typeof.to_dict()"
   ]
  },
  {
   "cell_type": "code",
   "execution_count": 41,
   "metadata": {},
   "outputs": [
    {
     "data": {
      "text/plain": [
       "'Former Google career coach shares a visual trick for figuring out what to do with your life'"
      ]
     },
     "execution_count": 41,
     "metadata": {},
     "output_type": "execute_result"
    }
   ],
   "source": [
    "typeof['title'][0]\n"
   ]
  }
 ],
 "metadata": {
  "kernelspec": {
   "display_name": "Python 3",
   "language": "python",
   "name": "python3"
  },
  "language_info": {
   "codemirror_mode": {
    "name": "ipython",
    "version": 3
   },
   "file_extension": ".py",
   "mimetype": "text/x-python",
   "name": "python",
   "nbconvert_exporter": "python",
   "pygments_lexer": "ipython3",
   "version": "3.7.3"
  }
 },
 "nbformat": 4,
 "nbformat_minor": 2
}
